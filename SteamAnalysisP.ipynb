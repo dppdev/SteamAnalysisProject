{
 "cells": [
  {
   "cell_type": "markdown",
   "metadata": {},
   "source": [
    "# Actividad Final Python"
   ]
  },
  {
   "cell_type": "markdown",
   "metadata": {},
   "source": [
    "## Analisis SteamDataset por Darío P"
   ]
  },
  {
   "cell_type": "markdown",
   "metadata": {},
   "source": [
    "### Índice\n",
    "+ 1º Introducción\n",
    "+ 2º Tratamiento de datos\n",
    "+ 3º Tratamiento de datos orientado al estudio del Género\n",
    "+ 4º Analisis (Géneros)\n",
    "  + 4.1º Conclusión del analisis con respecto al Género\n",
    "+ 5º Tratamiento de datos orientado al estudio de la Categoría\n",
    "+ 6º Analisis (Categorías)\n",
    "  + 6.1º Conclusión analisis de Categorías\n",
    "+ 7º Tratamiento de datos orientado al estudio de Precio contra Consumidores\n",
    "+ 8º Analisis (Precio vs Consumidores)\n",
    "  + 8.1º Conclusión (Precio vs Consumidores)\n",
    "+ 9º Conclusión Final"
   ]
  },
  {
   "cell_type": "markdown",
   "metadata": {},
   "source": [
    "### 1º Introducción"
   ]
  },
  {
   "cell_type": "markdown",
   "metadata": {},
   "source": [
    "+ El objetivo de esta actividad, es analizar la realidad que se vive en los videojuegos tanto en categoría como en género y su respectivo precio de la plataforma Steam, no se tratarán datos de consolas ni móviles. Para realizar esta actividad he utilizado el siguiente fichero.\n",
    " + <b>steam.csv</b> : Este mismo contiene la información de el nombre del juego, la fecha de lanzamiento, si está en inglés, la desarrolladora, la publicadora, en que plataforma se enncuentra, la edad requerida de los jugadores para poder jugar el videojuego, la categoría, el género del mismo, las etiquetas que le pone steam para promocionarlo, ratings positivos y negativos, el tiempo medio jugado, la media de tiempo jugado, los propietarios del juego y su precio.\n",
    " + La información y este data set lo he extraido de la página:\n",
    "    +  https://www.kaggle.com/nikdavis/steam-store-games\n",
    "+ Ahora a continuación pasaré a importar las librerias necesarias para poder empezar con el analisis"
   ]
  },
  {
   "cell_type": "code",
   "execution_count": 1,
   "metadata": {},
   "outputs": [],
   "source": [
    "import numpy as np\n",
    "import pandas as pd\n",
    "import matplotlib.pyplot as plt\n",
    "import seaborn as sns\n",
    "import os"
   ]
  },
  {
   "cell_type": "markdown",
   "metadata": {},
   "source": [
    "+ Desempaquetamos el zip para obtener el dataset"
   ]
  },
  {
   "cell_type": "code",
   "execution_count": 9,
   "metadata": {},
   "outputs": [
    {
     "name": "stdout",
     "output_type": "stream",
     "text": [
      "Extracting all files...\n",
      "Done!\n"
     ]
    }
   ],
   "source": [
    "import zipfile as zp # para descomprimir archivos zip\n",
    "#import urllib.request # para descargar de URL\n",
    "import os\n",
    "\n",
    "# descargar SteamStoreGames dataset\n",
    "#url = 'https://www.kaggle.com/nikdavis/steam-store-games/download'  \n",
    "local_zip = os.path.join(\"res\", \"archive.zip\")\n",
    "#urllib.request.urlretrieve(url, local_zip)\n",
    "# descomprimiendo archivo zip\n",
    "with zp.ZipFile(local_zip, 'r') as zipp: \n",
    "    print('Extracting all files...') \n",
    "    zipp.extractall(os.path.join(\"res\")) # destino\n",
    "    print('Done!') "
   ]
  },
  {
   "cell_type": "markdown",
   "metadata": {},
   "source": [
    "### 2º Tratamiento de datos"
   ]
  },
  {
   "cell_type": "markdown",
   "metadata": {},
   "source": [
    "+ Una vez tengamos descomprimiedo el paquete zip que hemos descargado, podemos seguir y empezar el tratamiento de datos, para dejar los como los necesitemos para hacer un correcto analisis\n",
    "   + Buscamos el data set y le damos unas columnas "
   ]
  },
  {
   "cell_type": "code",
   "execution_count": 2,
   "metadata": {},
   "outputs": [],
   "source": [
    "root_path = os.path.join(\"res\", \"SteamData\" )\n",
    "\n",
    "steam_dataset = pd.read_csv(os.path.join(root_path, \"steam.csv\"), sep=',',\n",
    "                                index_col=0, engine='python',\n",
    "                                names=['appid','name','release_date','english','developer','publisher',\n",
    "                                       'platforms','required_age','categories','genres','steamspy_tags','achievements',\n",
    "                                       'positive_ratings','negative_ratings','average_playtime','median_playtime',\n",
    "                                      'owners','price'], encoding='utf-8')\n",
    "\n"
   ]
  },
  {
   "cell_type": "markdown",
   "metadata": {},
   "source": [
    "+ Imprimimos el primer resultado, viendo así todas las columnas y datos dentro del dataset"
   ]
  },
  {
   "cell_type": "code",
   "execution_count": 3,
   "metadata": {},
   "outputs": [
    {
     "data": {
      "text/html": [
       "<div>\n",
       "<style scoped>\n",
       "    .dataframe tbody tr th:only-of-type {\n",
       "        vertical-align: middle;\n",
       "    }\n",
       "\n",
       "    .dataframe tbody tr th {\n",
       "        vertical-align: top;\n",
       "    }\n",
       "\n",
       "    .dataframe thead th {\n",
       "        text-align: right;\n",
       "    }\n",
       "</style>\n",
       "<table border=\"1\" class=\"dataframe\">\n",
       "  <thead>\n",
       "    <tr style=\"text-align: right;\">\n",
       "      <th></th>\n",
       "      <th>name</th>\n",
       "      <th>release_date</th>\n",
       "      <th>english</th>\n",
       "      <th>developer</th>\n",
       "      <th>publisher</th>\n",
       "      <th>platforms</th>\n",
       "      <th>required_age</th>\n",
       "      <th>categories</th>\n",
       "      <th>genres</th>\n",
       "      <th>steamspy_tags</th>\n",
       "      <th>achievements</th>\n",
       "      <th>positive_ratings</th>\n",
       "      <th>negative_ratings</th>\n",
       "      <th>average_playtime</th>\n",
       "      <th>median_playtime</th>\n",
       "      <th>owners</th>\n",
       "      <th>price</th>\n",
       "    </tr>\n",
       "    <tr>\n",
       "      <th>appid</th>\n",
       "      <th></th>\n",
       "      <th></th>\n",
       "      <th></th>\n",
       "      <th></th>\n",
       "      <th></th>\n",
       "      <th></th>\n",
       "      <th></th>\n",
       "      <th></th>\n",
       "      <th></th>\n",
       "      <th></th>\n",
       "      <th></th>\n",
       "      <th></th>\n",
       "      <th></th>\n",
       "      <th></th>\n",
       "      <th></th>\n",
       "      <th></th>\n",
       "      <th></th>\n",
       "    </tr>\n",
       "  </thead>\n",
       "  <tbody>\n",
       "    <tr>\n",
       "      <th>562730</th>\n",
       "      <td>MechDefender</td>\n",
       "      <td>2017-03-21</td>\n",
       "      <td>1</td>\n",
       "      <td>Badim</td>\n",
       "      <td>Badim</td>\n",
       "      <td>windows;mac</td>\n",
       "      <td>0</td>\n",
       "      <td>Single-player;Steam Achievements;Steam Trading...</td>\n",
       "      <td>Action;Casual;Indie;Strategy;Early Access</td>\n",
       "      <td>Early Access;Indie;Strategy</td>\n",
       "      <td>18</td>\n",
       "      <td>8</td>\n",
       "      <td>11</td>\n",
       "      <td>314</td>\n",
       "      <td>314</td>\n",
       "      <td>50000-100000</td>\n",
       "      <td>3.99</td>\n",
       "    </tr>\n",
       "    <tr>\n",
       "      <th>296590</th>\n",
       "      <td>Draconian Wars</td>\n",
       "      <td>2014-08-28</td>\n",
       "      <td>1</td>\n",
       "      <td>Kardfy Studios</td>\n",
       "      <td>Kardfy Studios</td>\n",
       "      <td>windows</td>\n",
       "      <td>0</td>\n",
       "      <td>Single-player;Multi-player;Steam Achievements;...</td>\n",
       "      <td>Indie;Strategy</td>\n",
       "      <td>Strategy;Indie;Card Game</td>\n",
       "      <td>27</td>\n",
       "      <td>18</td>\n",
       "      <td>25</td>\n",
       "      <td>0</td>\n",
       "      <td>0</td>\n",
       "      <td>0-20000</td>\n",
       "      <td>4.79</td>\n",
       "    </tr>\n",
       "    <tr>\n",
       "      <th>710280</th>\n",
       "      <td>Musician</td>\n",
       "      <td>2018-03-19</td>\n",
       "      <td>1</td>\n",
       "      <td>ZhangHaiLong</td>\n",
       "      <td>ZhangHaiLong</td>\n",
       "      <td>windows</td>\n",
       "      <td>0</td>\n",
       "      <td>Single-player;Multi-player</td>\n",
       "      <td>Casual;Indie;Simulation</td>\n",
       "      <td>Indie;Casual;Simulation</td>\n",
       "      <td>0</td>\n",
       "      <td>1</td>\n",
       "      <td>0</td>\n",
       "      <td>0</td>\n",
       "      <td>0</td>\n",
       "      <td>0-20000</td>\n",
       "      <td>10.29</td>\n",
       "    </tr>\n",
       "    <tr>\n",
       "      <th>590530</th>\n",
       "      <td>World Builder</td>\n",
       "      <td>2017-03-14</td>\n",
       "      <td>1</td>\n",
       "      <td>Guruji VR, Inc</td>\n",
       "      <td>Guruji VR, Inc</td>\n",
       "      <td>windows</td>\n",
       "      <td>0</td>\n",
       "      <td>Single-player;Steam Workshop;Includes level ed...</td>\n",
       "      <td>Casual;Indie;Simulation</td>\n",
       "      <td>Indie;Simulation;Casual</td>\n",
       "      <td>0</td>\n",
       "      <td>16</td>\n",
       "      <td>3</td>\n",
       "      <td>0</td>\n",
       "      <td>0</td>\n",
       "      <td>0-20000</td>\n",
       "      <td>6.99</td>\n",
       "    </tr>\n",
       "    <tr>\n",
       "      <th>403970</th>\n",
       "      <td>The Dwarves</td>\n",
       "      <td>2016-12-01</td>\n",
       "      <td>1</td>\n",
       "      <td>KING Art</td>\n",
       "      <td>THQ Nordic;EuroVideo Medien</td>\n",
       "      <td>windows;mac;linux</td>\n",
       "      <td>0</td>\n",
       "      <td>Single-player;Steam Achievements;Full controll...</td>\n",
       "      <td>RPG</td>\n",
       "      <td>RPG;Fantasy;Real-Time with Pause</td>\n",
       "      <td>34</td>\n",
       "      <td>936</td>\n",
       "      <td>311</td>\n",
       "      <td>117</td>\n",
       "      <td>117</td>\n",
       "      <td>100000-200000</td>\n",
       "      <td>34.99</td>\n",
       "    </tr>\n",
       "  </tbody>\n",
       "</table>\n",
       "</div>"
      ],
      "text/plain": [
       "                  name release_date english       developer  \\\n",
       "appid                                                         \n",
       "562730    MechDefender   2017-03-21       1           Badim   \n",
       "296590  Draconian Wars   2014-08-28       1  Kardfy Studios   \n",
       "710280        Musician   2018-03-19       1    ZhangHaiLong   \n",
       "590530   World Builder   2017-03-14       1  Guruji VR, Inc   \n",
       "403970     The Dwarves   2016-12-01       1        KING Art   \n",
       "\n",
       "                          publisher          platforms required_age  \\\n",
       "appid                                                                 \n",
       "562730                        Badim        windows;mac            0   \n",
       "296590               Kardfy Studios            windows            0   \n",
       "710280                 ZhangHaiLong            windows            0   \n",
       "590530               Guruji VR, Inc            windows            0   \n",
       "403970  THQ Nordic;EuroVideo Medien  windows;mac;linux            0   \n",
       "\n",
       "                                               categories  \\\n",
       "appid                                                       \n",
       "562730  Single-player;Steam Achievements;Steam Trading...   \n",
       "296590  Single-player;Multi-player;Steam Achievements;...   \n",
       "710280                         Single-player;Multi-player   \n",
       "590530  Single-player;Steam Workshop;Includes level ed...   \n",
       "403970  Single-player;Steam Achievements;Full controll...   \n",
       "\n",
       "                                           genres  \\\n",
       "appid                                               \n",
       "562730  Action;Casual;Indie;Strategy;Early Access   \n",
       "296590                             Indie;Strategy   \n",
       "710280                    Casual;Indie;Simulation   \n",
       "590530                    Casual;Indie;Simulation   \n",
       "403970                                        RPG   \n",
       "\n",
       "                           steamspy_tags achievements positive_ratings  \\\n",
       "appid                                                                    \n",
       "562730       Early Access;Indie;Strategy           18                8   \n",
       "296590          Strategy;Indie;Card Game           27               18   \n",
       "710280           Indie;Casual;Simulation            0                1   \n",
       "590530           Indie;Simulation;Casual            0               16   \n",
       "403970  RPG;Fantasy;Real-Time with Pause           34              936   \n",
       "\n",
       "       negative_ratings average_playtime median_playtime         owners  price  \n",
       "appid                                                                           \n",
       "562730               11              314             314   50000-100000   3.99  \n",
       "296590               25                0               0        0-20000   4.79  \n",
       "710280                0                0               0        0-20000  10.29  \n",
       "590530                3                0               0        0-20000   6.99  \n",
       "403970              311              117             117  100000-200000  34.99  "
      ]
     },
     "execution_count": 3,
     "metadata": {},
     "output_type": "execute_result"
    }
   ],
   "source": [
    "steam_dataset.sample(5)"
   ]
  },
  {
   "cell_type": "code",
   "execution_count": 3,
   "metadata": {},
   "outputs": [],
   "source": [
    "steam_price = steam_dataset.copy()"
   ]
  },
  {
   "cell_type": "markdown",
   "metadata": {},
   "source": [
    "+ Empezamos quitando columnas que no vamos a gastar en este analisis"
   ]
  },
  {
   "cell_type": "code",
   "execution_count": 4,
   "metadata": {},
   "outputs": [],
   "source": [
    "def drop_columns(data,columns):\n",
    "    return data.drop(columns,axis=1)\n",
    "\n",
    "columns_to_drop = ['release_date','english','developer','publisher','required_age','achievements','steamspy_tags']\n",
    "steam_dataset = drop_columns(steam_dataset,columns_to_drop)"
   ]
  },
  {
   "cell_type": "code",
   "execution_count": 6,
   "metadata": {
    "scrolled": true
   },
   "outputs": [],
   "source": [
    "#steam_dataset.sample(5)"
   ]
  },
  {
   "cell_type": "markdown",
   "metadata": {},
   "source": [
    "### 3º Tratamiento de datos orientado al estudio del Género"
   ]
  },
  {
   "cell_type": "markdown",
   "metadata": {},
   "source": [
    "+ Seguimos descomponiendo los valores de genero en valores unicos"
   ]
  },
  {
   "cell_type": "code",
   "execution_count": 5,
   "metadata": {},
   "outputs": [],
   "source": [
    "all_genres = steam_dataset['genres'].apply(lambda x : x.split(';'))\n",
    "#print(all_genres)\n",
    "\n",
    "genreS = pd.unique([genre for x in all_genres for genre in x])\n",
    "#print(genreS)"
   ]
  },
  {
   "cell_type": "markdown",
   "metadata": {},
   "source": [
    "+ Creamos una tabla con todos los generos que existen en el dataframe"
   ]
  },
  {
   "cell_type": "code",
   "execution_count": 6,
   "metadata": {
    "scrolled": true
   },
   "outputs": [],
   "source": [
    "# crear tabla con columnas por género\n",
    "zeros = np.zeros( (len(steam_dataset), len(genreS)) )\n",
    "genres_frame = pd.DataFrame(zeros,columns=genreS, index= steam_dataset.index)\n",
    "columns_to_drop = ['genres']\n",
    "genres_frame = drop_columns(genres_frame,columns_to_drop)\n",
    "#genres_frame.head(5)"
   ]
  },
  {
   "cell_type": "markdown",
   "metadata": {},
   "source": [
    "+ Con los valores del genero original asignamos 1 y 0 dependiendo si el genero existe en cada juego"
   ]
  },
  {
   "cell_type": "code",
   "execution_count": 7,
   "metadata": {},
   "outputs": [],
   "source": [
    "columns_genres = genres_frame.columns # lista de generos (columnas)\n",
    "# para cada juego, marcar género con 1\n",
    "for i, genre in enumerate(steam_dataset['genres']):\n",
    "    inds = columns_genres.get_indexer(genre.split(';')) # retorna los indices correspondientes a los generos de cada juego\n",
    "    genres_frame.iloc[i,inds] = 1 # localiza las columnas del genero correspondiente, marca con 1"
   ]
  },
  {
   "cell_type": "code",
   "execution_count": 8,
   "metadata": {
    "scrolled": true
   },
   "outputs": [
    {
     "data": {
      "text/html": [
       "<div>\n",
       "<style scoped>\n",
       "    .dataframe tbody tr th:only-of-type {\n",
       "        vertical-align: middle;\n",
       "    }\n",
       "\n",
       "    .dataframe tbody tr th {\n",
       "        vertical-align: top;\n",
       "    }\n",
       "\n",
       "    .dataframe thead th {\n",
       "        text-align: right;\n",
       "    }\n",
       "</style>\n",
       "<table border=\"1\" class=\"dataframe\">\n",
       "  <thead>\n",
       "    <tr style=\"text-align: right;\">\n",
       "      <th></th>\n",
       "      <th>Action</th>\n",
       "      <th>Free to Play</th>\n",
       "      <th>Strategy</th>\n",
       "      <th>Adventure</th>\n",
       "      <th>Indie</th>\n",
       "      <th>RPG</th>\n",
       "      <th>Animation &amp; Modeling</th>\n",
       "      <th>Video Production</th>\n",
       "      <th>Casual</th>\n",
       "      <th>Simulation</th>\n",
       "      <th>...</th>\n",
       "      <th>Web Publishing</th>\n",
       "      <th>Education</th>\n",
       "      <th>Software Training</th>\n",
       "      <th>Sexual Content</th>\n",
       "      <th>Audio Production</th>\n",
       "      <th>Game Development</th>\n",
       "      <th>Photo Editing</th>\n",
       "      <th>Accounting</th>\n",
       "      <th>Documentary</th>\n",
       "      <th>Tutorial</th>\n",
       "    </tr>\n",
       "    <tr>\n",
       "      <th>appid</th>\n",
       "      <th></th>\n",
       "      <th></th>\n",
       "      <th></th>\n",
       "      <th></th>\n",
       "      <th></th>\n",
       "      <th></th>\n",
       "      <th></th>\n",
       "      <th></th>\n",
       "      <th></th>\n",
       "      <th></th>\n",
       "      <th></th>\n",
       "      <th></th>\n",
       "      <th></th>\n",
       "      <th></th>\n",
       "      <th></th>\n",
       "      <th></th>\n",
       "      <th></th>\n",
       "      <th></th>\n",
       "      <th></th>\n",
       "      <th></th>\n",
       "      <th></th>\n",
       "    </tr>\n",
       "  </thead>\n",
       "  <tbody>\n",
       "    <tr>\n",
       "      <th>appid</th>\n",
       "      <td>0.0</td>\n",
       "      <td>0.0</td>\n",
       "      <td>0.0</td>\n",
       "      <td>0.0</td>\n",
       "      <td>0.0</td>\n",
       "      <td>0.0</td>\n",
       "      <td>0.0</td>\n",
       "      <td>0.0</td>\n",
       "      <td>0.0</td>\n",
       "      <td>0.0</td>\n",
       "      <td>...</td>\n",
       "      <td>0.0</td>\n",
       "      <td>0.0</td>\n",
       "      <td>0.0</td>\n",
       "      <td>0.0</td>\n",
       "      <td>0.0</td>\n",
       "      <td>0.0</td>\n",
       "      <td>0.0</td>\n",
       "      <td>0.0</td>\n",
       "      <td>0.0</td>\n",
       "      <td>1.0</td>\n",
       "    </tr>\n",
       "    <tr>\n",
       "      <th>10</th>\n",
       "      <td>1.0</td>\n",
       "      <td>0.0</td>\n",
       "      <td>0.0</td>\n",
       "      <td>0.0</td>\n",
       "      <td>0.0</td>\n",
       "      <td>0.0</td>\n",
       "      <td>0.0</td>\n",
       "      <td>0.0</td>\n",
       "      <td>0.0</td>\n",
       "      <td>0.0</td>\n",
       "      <td>...</td>\n",
       "      <td>0.0</td>\n",
       "      <td>0.0</td>\n",
       "      <td>0.0</td>\n",
       "      <td>0.0</td>\n",
       "      <td>0.0</td>\n",
       "      <td>0.0</td>\n",
       "      <td>0.0</td>\n",
       "      <td>0.0</td>\n",
       "      <td>0.0</td>\n",
       "      <td>0.0</td>\n",
       "    </tr>\n",
       "    <tr>\n",
       "      <th>20</th>\n",
       "      <td>1.0</td>\n",
       "      <td>0.0</td>\n",
       "      <td>0.0</td>\n",
       "      <td>0.0</td>\n",
       "      <td>0.0</td>\n",
       "      <td>0.0</td>\n",
       "      <td>0.0</td>\n",
       "      <td>0.0</td>\n",
       "      <td>0.0</td>\n",
       "      <td>0.0</td>\n",
       "      <td>...</td>\n",
       "      <td>0.0</td>\n",
       "      <td>0.0</td>\n",
       "      <td>0.0</td>\n",
       "      <td>0.0</td>\n",
       "      <td>0.0</td>\n",
       "      <td>0.0</td>\n",
       "      <td>0.0</td>\n",
       "      <td>0.0</td>\n",
       "      <td>0.0</td>\n",
       "      <td>0.0</td>\n",
       "    </tr>\n",
       "    <tr>\n",
       "      <th>30</th>\n",
       "      <td>1.0</td>\n",
       "      <td>0.0</td>\n",
       "      <td>0.0</td>\n",
       "      <td>0.0</td>\n",
       "      <td>0.0</td>\n",
       "      <td>0.0</td>\n",
       "      <td>0.0</td>\n",
       "      <td>0.0</td>\n",
       "      <td>0.0</td>\n",
       "      <td>0.0</td>\n",
       "      <td>...</td>\n",
       "      <td>0.0</td>\n",
       "      <td>0.0</td>\n",
       "      <td>0.0</td>\n",
       "      <td>0.0</td>\n",
       "      <td>0.0</td>\n",
       "      <td>0.0</td>\n",
       "      <td>0.0</td>\n",
       "      <td>0.0</td>\n",
       "      <td>0.0</td>\n",
       "      <td>0.0</td>\n",
       "    </tr>\n",
       "    <tr>\n",
       "      <th>40</th>\n",
       "      <td>1.0</td>\n",
       "      <td>0.0</td>\n",
       "      <td>0.0</td>\n",
       "      <td>0.0</td>\n",
       "      <td>0.0</td>\n",
       "      <td>0.0</td>\n",
       "      <td>0.0</td>\n",
       "      <td>0.0</td>\n",
       "      <td>0.0</td>\n",
       "      <td>0.0</td>\n",
       "      <td>...</td>\n",
       "      <td>0.0</td>\n",
       "      <td>0.0</td>\n",
       "      <td>0.0</td>\n",
       "      <td>0.0</td>\n",
       "      <td>0.0</td>\n",
       "      <td>0.0</td>\n",
       "      <td>0.0</td>\n",
       "      <td>0.0</td>\n",
       "      <td>0.0</td>\n",
       "      <td>0.0</td>\n",
       "    </tr>\n",
       "  </tbody>\n",
       "</table>\n",
       "<p>5 rows × 29 columns</p>\n",
       "</div>"
      ],
      "text/plain": [
       "       Action  Free to Play  Strategy  Adventure  Indie  RPG  \\\n",
       "appid                                                          \n",
       "appid     0.0           0.0       0.0        0.0    0.0  0.0   \n",
       "10        1.0           0.0       0.0        0.0    0.0  0.0   \n",
       "20        1.0           0.0       0.0        0.0    0.0  0.0   \n",
       "30        1.0           0.0       0.0        0.0    0.0  0.0   \n",
       "40        1.0           0.0       0.0        0.0    0.0  0.0   \n",
       "\n",
       "       Animation & Modeling  Video Production  Casual  Simulation  ...  \\\n",
       "appid                                                              ...   \n",
       "appid                   0.0               0.0     0.0         0.0  ...   \n",
       "10                      0.0               0.0     0.0         0.0  ...   \n",
       "20                      0.0               0.0     0.0         0.0  ...   \n",
       "30                      0.0               0.0     0.0         0.0  ...   \n",
       "40                      0.0               0.0     0.0         0.0  ...   \n",
       "\n",
       "       Web Publishing  Education  Software Training  Sexual Content  \\\n",
       "appid                                                                 \n",
       "appid             0.0        0.0                0.0             0.0   \n",
       "10                0.0        0.0                0.0             0.0   \n",
       "20                0.0        0.0                0.0             0.0   \n",
       "30                0.0        0.0                0.0             0.0   \n",
       "40                0.0        0.0                0.0             0.0   \n",
       "\n",
       "       Audio Production  Game Development  Photo Editing  Accounting  \\\n",
       "appid                                                                  \n",
       "appid               0.0               0.0            0.0         0.0   \n",
       "10                  0.0               0.0            0.0         0.0   \n",
       "20                  0.0               0.0            0.0         0.0   \n",
       "30                  0.0               0.0            0.0         0.0   \n",
       "40                  0.0               0.0            0.0         0.0   \n",
       "\n",
       "       Documentary  Tutorial  \n",
       "appid                         \n",
       "appid          0.0       1.0  \n",
       "10             0.0       0.0  \n",
       "20             0.0       0.0  \n",
       "30             0.0       0.0  \n",
       "40             0.0       0.0  \n",
       "\n",
       "[5 rows x 29 columns]"
      ]
     },
     "execution_count": 8,
     "metadata": {},
     "output_type": "execute_result"
    }
   ],
   "source": [
    "#filtro juegos por genero\n",
    "genres_frame.head(5)"
   ]
  },
  {
   "cell_type": "markdown",
   "metadata": {},
   "source": [
    "+ Y ahora hacemos un join para unir ambos dataframes y eliminaremos la columna genero porque ya no nos sirve ya que la hemos descompuesto en varias columnas"
   ]
  },
  {
   "cell_type": "code",
   "execution_count": 9,
   "metadata": {},
   "outputs": [],
   "source": [
    "steam_split_genre = steam_dataset.join(genres_frame)"
   ]
  },
  {
   "cell_type": "code",
   "execution_count": 10,
   "metadata": {
    "scrolled": true
   },
   "outputs": [],
   "source": [
    "columns_to_drop = ['genres','categories','platforms','average_playtime','median_playtime','price']\n",
    "steam_split_genre = drop_columns(steam_split_genre,columns_to_drop)\n",
    "#display(steam_split_genre.head(5))"
   ]
  },
  {
   "cell_type": "code",
   "execution_count": 11,
   "metadata": {},
   "outputs": [],
   "source": [
    "steam_split_genre.drop([\"appid\"], inplace = True)\n",
    "#display(steam_split_genre.head(5))"
   ]
  },
  {
   "cell_type": "code",
   "execution_count": 12,
   "metadata": {},
   "outputs": [],
   "source": [
    "def split_owners(owners):\n",
    "    index = owners.index('-')\n",
    "    return owners[index:].replace('-',' ')\n",
    "steam_split_genre['owners'] = steam_split_genre['owners'].apply(split_owners)\n",
    "#steam_split_genre.head(5)"
   ]
  },
  {
   "cell_type": "code",
   "execution_count": 13,
   "metadata": {},
   "outputs": [],
   "source": [
    "steam_split_genre['owners'] = steam_split_genre['owners'].astype(int)\n",
    "steam_split_genre['positive_ratings'] = steam_split_genre['positive_ratings'].astype(int)\n",
    "steam_split_genre['negative_ratings'] = steam_split_genre['negative_ratings'].astype(int)"
   ]
  },
  {
   "cell_type": "code",
   "execution_count": 15,
   "metadata": {},
   "outputs": [
    {
     "data": {
      "text/html": [
       "<div>\n",
       "<style scoped>\n",
       "    .dataframe tbody tr th:only-of-type {\n",
       "        vertical-align: middle;\n",
       "    }\n",
       "\n",
       "    .dataframe tbody tr th {\n",
       "        vertical-align: top;\n",
       "    }\n",
       "\n",
       "    .dataframe thead th {\n",
       "        text-align: right;\n",
       "    }\n",
       "</style>\n",
       "<table border=\"1\" class=\"dataframe\">\n",
       "  <thead>\n",
       "    <tr style=\"text-align: right;\">\n",
       "      <th></th>\n",
       "      <th>name</th>\n",
       "      <th>positive_ratings</th>\n",
       "      <th>negative_ratings</th>\n",
       "      <th>owners</th>\n",
       "      <th>Action</th>\n",
       "      <th>Free to Play</th>\n",
       "      <th>Strategy</th>\n",
       "      <th>Adventure</th>\n",
       "      <th>Indie</th>\n",
       "      <th>RPG</th>\n",
       "      <th>...</th>\n",
       "      <th>Web Publishing</th>\n",
       "      <th>Education</th>\n",
       "      <th>Software Training</th>\n",
       "      <th>Sexual Content</th>\n",
       "      <th>Audio Production</th>\n",
       "      <th>Game Development</th>\n",
       "      <th>Photo Editing</th>\n",
       "      <th>Accounting</th>\n",
       "      <th>Documentary</th>\n",
       "      <th>Tutorial</th>\n",
       "    </tr>\n",
       "    <tr>\n",
       "      <th>appid</th>\n",
       "      <th></th>\n",
       "      <th></th>\n",
       "      <th></th>\n",
       "      <th></th>\n",
       "      <th></th>\n",
       "      <th></th>\n",
       "      <th></th>\n",
       "      <th></th>\n",
       "      <th></th>\n",
       "      <th></th>\n",
       "      <th></th>\n",
       "      <th></th>\n",
       "      <th></th>\n",
       "      <th></th>\n",
       "      <th></th>\n",
       "      <th></th>\n",
       "      <th></th>\n",
       "      <th></th>\n",
       "      <th></th>\n",
       "      <th></th>\n",
       "      <th></th>\n",
       "    </tr>\n",
       "  </thead>\n",
       "  <tbody>\n",
       "    <tr>\n",
       "      <th>10</th>\n",
       "      <td>Counter-Strike</td>\n",
       "      <td>124534</td>\n",
       "      <td>3339</td>\n",
       "      <td>20000000</td>\n",
       "      <td>1.0</td>\n",
       "      <td>0.0</td>\n",
       "      <td>0.0</td>\n",
       "      <td>0.0</td>\n",
       "      <td>0.0</td>\n",
       "      <td>0.0</td>\n",
       "      <td>...</td>\n",
       "      <td>0.0</td>\n",
       "      <td>0.0</td>\n",
       "      <td>0.0</td>\n",
       "      <td>0.0</td>\n",
       "      <td>0.0</td>\n",
       "      <td>0.0</td>\n",
       "      <td>0.0</td>\n",
       "      <td>0.0</td>\n",
       "      <td>0.0</td>\n",
       "      <td>0.0</td>\n",
       "    </tr>\n",
       "    <tr>\n",
       "      <th>20</th>\n",
       "      <td>Team Fortress Classic</td>\n",
       "      <td>3318</td>\n",
       "      <td>633</td>\n",
       "      <td>10000000</td>\n",
       "      <td>1.0</td>\n",
       "      <td>0.0</td>\n",
       "      <td>0.0</td>\n",
       "      <td>0.0</td>\n",
       "      <td>0.0</td>\n",
       "      <td>0.0</td>\n",
       "      <td>...</td>\n",
       "      <td>0.0</td>\n",
       "      <td>0.0</td>\n",
       "      <td>0.0</td>\n",
       "      <td>0.0</td>\n",
       "      <td>0.0</td>\n",
       "      <td>0.0</td>\n",
       "      <td>0.0</td>\n",
       "      <td>0.0</td>\n",
       "      <td>0.0</td>\n",
       "      <td>0.0</td>\n",
       "    </tr>\n",
       "    <tr>\n",
       "      <th>30</th>\n",
       "      <td>Day of Defeat</td>\n",
       "      <td>3416</td>\n",
       "      <td>398</td>\n",
       "      <td>10000000</td>\n",
       "      <td>1.0</td>\n",
       "      <td>0.0</td>\n",
       "      <td>0.0</td>\n",
       "      <td>0.0</td>\n",
       "      <td>0.0</td>\n",
       "      <td>0.0</td>\n",
       "      <td>...</td>\n",
       "      <td>0.0</td>\n",
       "      <td>0.0</td>\n",
       "      <td>0.0</td>\n",
       "      <td>0.0</td>\n",
       "      <td>0.0</td>\n",
       "      <td>0.0</td>\n",
       "      <td>0.0</td>\n",
       "      <td>0.0</td>\n",
       "      <td>0.0</td>\n",
       "      <td>0.0</td>\n",
       "    </tr>\n",
       "    <tr>\n",
       "      <th>40</th>\n",
       "      <td>Deathmatch Classic</td>\n",
       "      <td>1273</td>\n",
       "      <td>267</td>\n",
       "      <td>10000000</td>\n",
       "      <td>1.0</td>\n",
       "      <td>0.0</td>\n",
       "      <td>0.0</td>\n",
       "      <td>0.0</td>\n",
       "      <td>0.0</td>\n",
       "      <td>0.0</td>\n",
       "      <td>...</td>\n",
       "      <td>0.0</td>\n",
       "      <td>0.0</td>\n",
       "      <td>0.0</td>\n",
       "      <td>0.0</td>\n",
       "      <td>0.0</td>\n",
       "      <td>0.0</td>\n",
       "      <td>0.0</td>\n",
       "      <td>0.0</td>\n",
       "      <td>0.0</td>\n",
       "      <td>0.0</td>\n",
       "    </tr>\n",
       "    <tr>\n",
       "      <th>50</th>\n",
       "      <td>Half-Life: Opposing Force</td>\n",
       "      <td>5250</td>\n",
       "      <td>288</td>\n",
       "      <td>10000000</td>\n",
       "      <td>1.0</td>\n",
       "      <td>0.0</td>\n",
       "      <td>0.0</td>\n",
       "      <td>0.0</td>\n",
       "      <td>0.0</td>\n",
       "      <td>0.0</td>\n",
       "      <td>...</td>\n",
       "      <td>0.0</td>\n",
       "      <td>0.0</td>\n",
       "      <td>0.0</td>\n",
       "      <td>0.0</td>\n",
       "      <td>0.0</td>\n",
       "      <td>0.0</td>\n",
       "      <td>0.0</td>\n",
       "      <td>0.0</td>\n",
       "      <td>0.0</td>\n",
       "      <td>0.0</td>\n",
       "    </tr>\n",
       "  </tbody>\n",
       "</table>\n",
       "<p>5 rows × 33 columns</p>\n",
       "</div>"
      ],
      "text/plain": [
       "                            name  positive_ratings  negative_ratings  \\\n",
       "appid                                                                  \n",
       "10                Counter-Strike            124534              3339   \n",
       "20         Team Fortress Classic              3318               633   \n",
       "30                 Day of Defeat              3416               398   \n",
       "40            Deathmatch Classic              1273               267   \n",
       "50     Half-Life: Opposing Force              5250               288   \n",
       "\n",
       "         owners  Action  Free to Play  Strategy  Adventure  Indie  RPG  ...  \\\n",
       "appid                                                                   ...   \n",
       "10     20000000     1.0           0.0       0.0        0.0    0.0  0.0  ...   \n",
       "20     10000000     1.0           0.0       0.0        0.0    0.0  0.0  ...   \n",
       "30     10000000     1.0           0.0       0.0        0.0    0.0  0.0  ...   \n",
       "40     10000000     1.0           0.0       0.0        0.0    0.0  0.0  ...   \n",
       "50     10000000     1.0           0.0       0.0        0.0    0.0  0.0  ...   \n",
       "\n",
       "       Web Publishing  Education  Software Training  Sexual Content  \\\n",
       "appid                                                                 \n",
       "10                0.0        0.0                0.0             0.0   \n",
       "20                0.0        0.0                0.0             0.0   \n",
       "30                0.0        0.0                0.0             0.0   \n",
       "40                0.0        0.0                0.0             0.0   \n",
       "50                0.0        0.0                0.0             0.0   \n",
       "\n",
       "       Audio Production  Game Development  Photo Editing  Accounting  \\\n",
       "appid                                                                  \n",
       "10                  0.0               0.0            0.0         0.0   \n",
       "20                  0.0               0.0            0.0         0.0   \n",
       "30                  0.0               0.0            0.0         0.0   \n",
       "40                  0.0               0.0            0.0         0.0   \n",
       "50                  0.0               0.0            0.0         0.0   \n",
       "\n",
       "       Documentary  Tutorial  \n",
       "appid                         \n",
       "10             0.0       0.0  \n",
       "20             0.0       0.0  \n",
       "30             0.0       0.0  \n",
       "40             0.0       0.0  \n",
       "50             0.0       0.0  \n",
       "\n",
       "[5 rows x 33 columns]"
      ]
     },
     "execution_count": 15,
     "metadata": {},
     "output_type": "execute_result"
    }
   ],
   "source": [
    "steam_split_genre.head(5)"
   ]
  },
  {
   "cell_type": "markdown",
   "metadata": {},
   "source": [
    "### 4º Analisis  (Géneros)\n",
    "+ Después de extraer y arreglar los datos para su fácil utilización, pasamos a su siguiente análisis:\n",
    "    + Como podemos ver en los siguientes gráficos:\n",
    "      "
   ]
  },
  {
   "cell_type": "code",
   "execution_count": 18,
   "metadata": {},
   "outputs": [
    {
     "data": {
      "text/plain": [
       "<function matplotlib.pyplot.show(*args, **kw)>"
      ]
     },
     "execution_count": 18,
     "metadata": {},
     "output_type": "execute_result"
    },
    {
     "data": {
      "image/png": "[encoded data removed]",
      "text/plain": [
       "<Figure size 432x288 with 1 Axes>"
      ]
     },
     "metadata": {
      "needs_background": "light"
     },
     "output_type": "display_data"
    }
   ],
   "source": [
    "sns.boxplot(y=\"positive_ratings\", x=\"owners\", data=steam_split_genre)\n",
    "plt.xticks(rotation=90)\n",
    "plt.title('Valoraciones positivas / propietarios')\n",
    "plt.show\n",
    "#en relacion a las ventas se puede observar una subbida exponencial de valoraciones positivas"
   ]
  },
  {
   "cell_type": "markdown",
   "metadata": {},
   "source": [
    "+ Como podemos denotar en este gráfico, podemos ver que a mayor gente con un juego mas valoraciónes positivas puede aspirar y obtenner. Podemos destacar pues que a mas fama mayores reviews positivas"
   ]
  },
  {
   "cell_type": "code",
   "execution_count": 20,
   "metadata": {},
   "outputs": [
    {
     "data": {
      "image/png": "[encoded data removed]",
      "text/plain": [
       "<Figure size 432x288 with 1 Axes>"
      ]
     },
     "metadata": {
      "needs_background": "light"
     },
     "output_type": "display_data"
    }
   ],
   "source": [
    "sns.barplot(x='owners',y='negative_ratings',palette=\"rocket\",data=steam_split_genre)\n",
    "plt.xticks(rotation=90)\n",
    "plt.title('Valoraciones negativas / propietarios')\n",
    "plt.show()\n",
    "#como podemos observar la gente suele valorar mas negativamente los juegos mas conocidos o mas vendidos"
   ]
  },
  {
   "cell_type": "markdown",
   "metadata": {},
   "source": [
    "+ Anteriormente hemos visto los resultados de las valoraciones positivas, pero ahora le hechamos un vistazo a los valores que nos da analizar las valoraciones negativas en cuanto a propietarios. Los resultados son los esperados, como antes he comentado, a cuanta mayor fama, mas valoraciónes obtiene el titulo, ya sean positivas o negativas generalmente hablando."
   ]
  },
  {
   "cell_type": "code",
   "execution_count": 127,
   "metadata": {},
   "outputs": [
    {
     "data": {
      "image/png": "[encoded data removed]",
      "text/plain": [
       "<Figure size 360x360 with 1 Axes>"
      ]
     },
     "metadata": {
      "needs_background": "light"
     },
     "output_type": "display_data"
    }
   ],
   "source": [
    "sns.catplot(x='Action',y='positive_ratings',data=steam_split_genre)\n",
    "plt.xticks(rotation=90)\n",
    "plt.show()\n",
    "#podemos observar que no hay casi ratings positivos en cuanto a gente con juegos de este genero"
   ]
  },
  {
   "cell_type": "markdown",
   "metadata": {},
   "source": [
    " + Podemos ver que en cuanto al género de Acción se puede interpretar que la gente que tiene un videojuego de acción, da un buen feedback a los desarrolladores valorando su juego de forma positiva. "
   ]
  },
  {
   "cell_type": "code",
   "execution_count": 125,
   "metadata": {},
   "outputs": [
    {
     "data": {
      "image/png": "[encoded data removed]",
      "text/plain": [
       "<Figure size 360x360 with 1 Axes>"
      ]
     },
     "metadata": {
      "needs_background": "light"
     },
     "output_type": "display_data"
    }
   ],
   "source": [
    "sns.catplot(x='Action',y='negative_ratings',data=steam_split_genre)\n",
    "plt.xticks(rotation=90)\n",
    "plt.show()\n",
    "#podemos observar que no hay casi ratings negativos en comparacionn con positivos de este mismo genero"
   ]
  },
  {
   "cell_type": "markdown",
   "metadata": {},
   "source": [
    " + En este gráfico podemos ver que sucede lo mismo que en las reglas generales, podemos denotar que existen valoraciones negativas en cuanto al género de acción, pero como en el mismo caso que sucede en reglas generales, existen mas valoraciones positivas que negativas. Este suceso se lleva a cabo en todos los géneros analizados, pero he decidido poner el de acción porque se puede ver muy bien la diferencia"
   ]
  },
  {
   "cell_type": "code",
   "execution_count": 16,
   "metadata": {},
   "outputs": [
    {
     "data": {
      "image/png": "[encoded data removed]",
      "text/plain": [
       "<Figure size 432x288 with 1 Axes>"
      ]
     },
     "metadata": {
      "needs_background": "light"
     },
     "output_type": "display_data"
    },
    {
     "data": {
      "image/png": "[encoded data removed]",
      "text/plain": [
       "<Figure size 432x288 with 1 Axes>"
      ]
     },
     "metadata": {
      "needs_background": "light"
     },
     "output_type": "display_data"
    },
    {
     "data": {
      "image/png": "[encoded data removed]",
      "text/plain": [
       "<Figure size 432x288 with 1 Axes>"
      ]
     },
     "metadata": {
      "needs_background": "light"
     },
     "output_type": "display_data"
    }
   ],
   "source": [
    "#Comparando 3 generos de los mas conocidos podemos ver grandes diferencias del consumo de la gente ante preferentes generos\n",
    "sns.barplot(x = 'owners',y = 'Action', data = steam_split_genre)\n",
    "plt.xticks(rotation=90)\n",
    "plt.title('Propietarios de juegos de accion')\n",
    "plt.show()\n",
    "sns.barplot(x = 'owners',y = 'Free to Play', palette='Set2', data = steam_split_genre)\n",
    "plt.xticks(rotation=90)\n",
    "plt.title('Propietarios de juegos Free2Play')\n",
    "plt.show()\n",
    "sns.barplot(x = 'owners',y = 'Adventure',palette = 'Paired', data = steam_split_genre)\n",
    "plt.xticks(rotation=90)\n",
    "plt.title('Propietarios de juegos de Aventura')\n",
    "plt.show()"
   ]
  },
  {
   "cell_type": "markdown",
   "metadata": {},
   "source": [
    "+ Como podemos ver en las gráficas ya mostradas, el género que cuenta con mayor numero de jugadores es el de acción, he querido elegir estos tres, porque son de los géneros mas famosos, y queria darme cuenta en la diferencia de jugadores. Como se puede observar los juegos de acción son de lo mas vendidos en Steam, mas incluso que los free2play, o los de aventura que le siguen de cerca. "
   ]
  },
  {
   "cell_type": "code",
   "execution_count": 121,
   "metadata": {},
   "outputs": [
    {
     "data": {
      "text/plain": [
       "<matplotlib.axes._subplots.AxesSubplot at 0x1374b62ae20>"
      ]
     },
     "execution_count": 121,
     "metadata": {},
     "output_type": "execute_result"
    },
    {
     "data": {
      "image/png": "[encoded data removed]",
      "text/plain": [
       "<Figure size 2160x576 with 2 Axes>"
      ]
     },
     "metadata": {
      "needs_background": "light"
     },
     "output_type": "display_data"
    }
   ],
   "source": [
    "f, ax = plt.subplots(figsize=(30, 8))\n",
    "corr = steam_split_genre.corr()\n",
    "sns.heatmap(corr, mask=np.zeros_like(corr, dtype=np.bool), \n",
    "            cmap=sns.diverging_palette(240, 10, n=9,as_cmap=True),square=True, ax=ax, annot = False)"
   ]
  },
  {
   "cell_type": "markdown",
   "metadata": {},
   "source": [
    "### 4.1º Conclusión del analisis con respecto al Género\n"
   ]
  },
  {
   "cell_type": "markdown",
   "metadata": {},
   "source": [
    "+ Para poder finalizar el analisis en respectivo a los géneros de los videojuegos, se puede demostrar que existen correlaciones entre géneros y seguramente muchos juegos compartan géneros, aparte de la obvia relación entre ciertos géneros que muy probablemente vayan de la mano, como pueden ser Gore y violencia, dos géneros muy caracteríticos en juegos de peleas como puede ser Mortal Combat."
   ]
  },
  {
   "cell_type": "markdown",
   "metadata": {},
   "source": [
    "### 5º Tratamiento de datos orientado al estudio de la Categoría\n",
    "   + Ahora que he concluido de analizar los datos de género, voy a seguir analizando los datos de Categorías, para ello primero debo arreglar el dataset para dejarmelo usable y entendible."
   ]
  },
  {
   "cell_type": "code",
   "execution_count": 19,
   "metadata": {},
   "outputs": [],
   "source": [
    "all_categories = steam_dataset['categories'].apply(lambda x : x.split(';'))\n",
    "#print(all_categories)\n",
    "\n",
    "Categ = pd.unique([cat for x in all_categories for cat in x])\n",
    "#print(Categ)"
   ]
  },
  {
   "cell_type": "code",
   "execution_count": 20,
   "metadata": {},
   "outputs": [],
   "source": [
    "# crear tabla con columnas por categoria\n",
    "zeros = np.zeros( (len(steam_dataset), len(Categ)) )\n",
    "categ_frame = pd.DataFrame(zeros,columns=Categ, index= steam_dataset.index)\n",
    "columns_to_drop = ['categories']\n",
    "categ_frame = drop_columns(categ_frame,columns_to_drop)\n",
    "#categ_frame.head(5)"
   ]
  },
  {
   "cell_type": "code",
   "execution_count": 21,
   "metadata": {},
   "outputs": [],
   "source": [
    "columns_ctg = categ_frame.columns # lista de categorias (columnas)\n",
    "# para cada juego, marcar categoria con 1\n",
    "for i, cat in enumerate(steam_dataset['categories']):\n",
    "    inds = columns_ctg.get_indexer(cat.split(';')) # retorna los indices correspondientes a las categorias de cada juego\n",
    "    categ_frame.iloc[i,inds] = 1 # localiza las columnas de la categoria correspondiente, marca con 1"
   ]
  },
  {
   "cell_type": "code",
   "execution_count": 22,
   "metadata": {
    "scrolled": false
   },
   "outputs": [
    {
     "data": {
      "text/html": [
       "<div>\n",
       "<style scoped>\n",
       "    .dataframe tbody tr th:only-of-type {\n",
       "        vertical-align: middle;\n",
       "    }\n",
       "\n",
       "    .dataframe tbody tr th {\n",
       "        vertical-align: top;\n",
       "    }\n",
       "\n",
       "    .dataframe thead th {\n",
       "        text-align: right;\n",
       "    }\n",
       "</style>\n",
       "<table border=\"1\" class=\"dataframe\">\n",
       "  <thead>\n",
       "    <tr style=\"text-align: right;\">\n",
       "      <th></th>\n",
       "      <th>Multi-player</th>\n",
       "      <th>Online Multi-Player</th>\n",
       "      <th>Local Multi-Player</th>\n",
       "      <th>Valve Anti-Cheat enabled</th>\n",
       "      <th>Single-player</th>\n",
       "      <th>Steam Cloud</th>\n",
       "      <th>Steam Achievements</th>\n",
       "      <th>Steam Trading Cards</th>\n",
       "      <th>Captions available</th>\n",
       "      <th>Partial Controller Support</th>\n",
       "      <th>...</th>\n",
       "      <th>Steam Leaderboards</th>\n",
       "      <th>SteamVR Collectibles</th>\n",
       "      <th>Online Co-op</th>\n",
       "      <th>Shared/Split Screen</th>\n",
       "      <th>Local Co-op</th>\n",
       "      <th>MMO</th>\n",
       "      <th>VR Support</th>\n",
       "      <th>Mods</th>\n",
       "      <th>Mods (require HL2)</th>\n",
       "      <th>Steam Turn Notifications</th>\n",
       "    </tr>\n",
       "    <tr>\n",
       "      <th>appid</th>\n",
       "      <th></th>\n",
       "      <th></th>\n",
       "      <th></th>\n",
       "      <th></th>\n",
       "      <th></th>\n",
       "      <th></th>\n",
       "      <th></th>\n",
       "      <th></th>\n",
       "      <th></th>\n",
       "      <th></th>\n",
       "      <th></th>\n",
       "      <th></th>\n",
       "      <th></th>\n",
       "      <th></th>\n",
       "      <th></th>\n",
       "      <th></th>\n",
       "      <th></th>\n",
       "      <th></th>\n",
       "      <th></th>\n",
       "      <th></th>\n",
       "      <th></th>\n",
       "    </tr>\n",
       "  </thead>\n",
       "  <tbody>\n",
       "    <tr>\n",
       "      <th>appid</th>\n",
       "      <td>0.0</td>\n",
       "      <td>0.0</td>\n",
       "      <td>0.0</td>\n",
       "      <td>0.0</td>\n",
       "      <td>0.0</td>\n",
       "      <td>0.0</td>\n",
       "      <td>0.0</td>\n",
       "      <td>0.0</td>\n",
       "      <td>0.0</td>\n",
       "      <td>0.0</td>\n",
       "      <td>...</td>\n",
       "      <td>0.0</td>\n",
       "      <td>0.0</td>\n",
       "      <td>0.0</td>\n",
       "      <td>0.0</td>\n",
       "      <td>0.0</td>\n",
       "      <td>0.0</td>\n",
       "      <td>0.0</td>\n",
       "      <td>0.0</td>\n",
       "      <td>0.0</td>\n",
       "      <td>1.0</td>\n",
       "    </tr>\n",
       "    <tr>\n",
       "      <th>10</th>\n",
       "      <td>1.0</td>\n",
       "      <td>1.0</td>\n",
       "      <td>1.0</td>\n",
       "      <td>1.0</td>\n",
       "      <td>0.0</td>\n",
       "      <td>0.0</td>\n",
       "      <td>0.0</td>\n",
       "      <td>0.0</td>\n",
       "      <td>0.0</td>\n",
       "      <td>0.0</td>\n",
       "      <td>...</td>\n",
       "      <td>0.0</td>\n",
       "      <td>0.0</td>\n",
       "      <td>0.0</td>\n",
       "      <td>0.0</td>\n",
       "      <td>0.0</td>\n",
       "      <td>0.0</td>\n",
       "      <td>0.0</td>\n",
       "      <td>0.0</td>\n",
       "      <td>0.0</td>\n",
       "      <td>0.0</td>\n",
       "    </tr>\n",
       "    <tr>\n",
       "      <th>20</th>\n",
       "      <td>1.0</td>\n",
       "      <td>1.0</td>\n",
       "      <td>1.0</td>\n",
       "      <td>1.0</td>\n",
       "      <td>0.0</td>\n",
       "      <td>0.0</td>\n",
       "      <td>0.0</td>\n",
       "      <td>0.0</td>\n",
       "      <td>0.0</td>\n",
       "      <td>0.0</td>\n",
       "      <td>...</td>\n",
       "      <td>0.0</td>\n",
       "      <td>0.0</td>\n",
       "      <td>0.0</td>\n",
       "      <td>0.0</td>\n",
       "      <td>0.0</td>\n",
       "      <td>0.0</td>\n",
       "      <td>0.0</td>\n",
       "      <td>0.0</td>\n",
       "      <td>0.0</td>\n",
       "      <td>0.0</td>\n",
       "    </tr>\n",
       "    <tr>\n",
       "      <th>30</th>\n",
       "      <td>1.0</td>\n",
       "      <td>0.0</td>\n",
       "      <td>0.0</td>\n",
       "      <td>1.0</td>\n",
       "      <td>0.0</td>\n",
       "      <td>0.0</td>\n",
       "      <td>0.0</td>\n",
       "      <td>0.0</td>\n",
       "      <td>0.0</td>\n",
       "      <td>0.0</td>\n",
       "      <td>...</td>\n",
       "      <td>0.0</td>\n",
       "      <td>0.0</td>\n",
       "      <td>0.0</td>\n",
       "      <td>0.0</td>\n",
       "      <td>0.0</td>\n",
       "      <td>0.0</td>\n",
       "      <td>0.0</td>\n",
       "      <td>0.0</td>\n",
       "      <td>0.0</td>\n",
       "      <td>0.0</td>\n",
       "    </tr>\n",
       "    <tr>\n",
       "      <th>40</th>\n",
       "      <td>1.0</td>\n",
       "      <td>1.0</td>\n",
       "      <td>1.0</td>\n",
       "      <td>1.0</td>\n",
       "      <td>0.0</td>\n",
       "      <td>0.0</td>\n",
       "      <td>0.0</td>\n",
       "      <td>0.0</td>\n",
       "      <td>0.0</td>\n",
       "      <td>0.0</td>\n",
       "      <td>...</td>\n",
       "      <td>0.0</td>\n",
       "      <td>0.0</td>\n",
       "      <td>0.0</td>\n",
       "      <td>0.0</td>\n",
       "      <td>0.0</td>\n",
       "      <td>0.0</td>\n",
       "      <td>0.0</td>\n",
       "      <td>0.0</td>\n",
       "      <td>0.0</td>\n",
       "      <td>0.0</td>\n",
       "    </tr>\n",
       "  </tbody>\n",
       "</table>\n",
       "<p>5 rows × 29 columns</p>\n",
       "</div>"
      ],
      "text/plain": [
       "       Multi-player  Online Multi-Player  Local Multi-Player  \\\n",
       "appid                                                          \n",
       "appid           0.0                  0.0                 0.0   \n",
       "10              1.0                  1.0                 1.0   \n",
       "20              1.0                  1.0                 1.0   \n",
       "30              1.0                  0.0                 0.0   \n",
       "40              1.0                  1.0                 1.0   \n",
       "\n",
       "       Valve Anti-Cheat enabled  Single-player  Steam Cloud  \\\n",
       "appid                                                         \n",
       "appid                       0.0            0.0          0.0   \n",
       "10                          1.0            0.0          0.0   \n",
       "20                          1.0            0.0          0.0   \n",
       "30                          1.0            0.0          0.0   \n",
       "40                          1.0            0.0          0.0   \n",
       "\n",
       "       Steam Achievements  Steam Trading Cards  Captions available  \\\n",
       "appid                                                                \n",
       "appid                 0.0                  0.0                 0.0   \n",
       "10                    0.0                  0.0                 0.0   \n",
       "20                    0.0                  0.0                 0.0   \n",
       "30                    0.0                  0.0                 0.0   \n",
       "40                    0.0                  0.0                 0.0   \n",
       "\n",
       "       Partial Controller Support  ...  Steam Leaderboards  \\\n",
       "appid                              ...                       \n",
       "appid                         0.0  ...                 0.0   \n",
       "10                            0.0  ...                 0.0   \n",
       "20                            0.0  ...                 0.0   \n",
       "30                            0.0  ...                 0.0   \n",
       "40                            0.0  ...                 0.0   \n",
       "\n",
       "       SteamVR Collectibles  Online Co-op  Shared/Split Screen  Local Co-op  \\\n",
       "appid                                                                         \n",
       "appid                   0.0           0.0                  0.0          0.0   \n",
       "10                      0.0           0.0                  0.0          0.0   \n",
       "20                      0.0           0.0                  0.0          0.0   \n",
       "30                      0.0           0.0                  0.0          0.0   \n",
       "40                      0.0           0.0                  0.0          0.0   \n",
       "\n",
       "       MMO  VR Support  Mods  Mods (require HL2)  Steam Turn Notifications  \n",
       "appid                                                                       \n",
       "appid  0.0         0.0   0.0                 0.0                       1.0  \n",
       "10     0.0         0.0   0.0                 0.0                       0.0  \n",
       "20     0.0         0.0   0.0                 0.0                       0.0  \n",
       "30     0.0         0.0   0.0                 0.0                       0.0  \n",
       "40     0.0         0.0   0.0                 0.0                       0.0  \n",
       "\n",
       "[5 rows x 29 columns]"
      ]
     },
     "execution_count": 22,
     "metadata": {},
     "output_type": "execute_result"
    }
   ],
   "source": [
    "#filtro juegos por genero\n",
    "categ_frame.head(5)"
   ]
  },
  {
   "cell_type": "code",
   "execution_count": 23,
   "metadata": {},
   "outputs": [],
   "source": [
    "steam_split_ctg = steam_dataset.join(categ_frame)"
   ]
  },
  {
   "cell_type": "code",
   "execution_count": 24,
   "metadata": {},
   "outputs": [],
   "source": [
    "columns_to_drop = ['categories','genres','platforms','positive_ratings','negative_ratings','average_playtime','median_playtime','price']\n",
    "steam_split_ctg = drop_columns(steam_split_ctg,columns_to_drop)\n",
    "#display(steam_split_ctg.head(5))"
   ]
  },
  {
   "cell_type": "code",
   "execution_count": 25,
   "metadata": {},
   "outputs": [],
   "source": [
    "steam_split_ctg.drop([\"appid\"], inplace = True)"
   ]
  },
  {
   "cell_type": "code",
   "execution_count": 72,
   "metadata": {},
   "outputs": [],
   "source": [
    "#display(steam_split_ctg.head(5))"
   ]
  },
  {
   "cell_type": "code",
   "execution_count": 26,
   "metadata": {},
   "outputs": [],
   "source": [
    "steam_split_ctg['owners'] = steam_split_ctg['owners'].apply(split_owners)\n",
    "#steam_split_ctg.head(5)"
   ]
  },
  {
   "cell_type": "code",
   "execution_count": 27,
   "metadata": {},
   "outputs": [],
   "source": [
    "steam_split_ctg['owners'] = steam_split_ctg['owners'].astype(int)"
   ]
  },
  {
   "cell_type": "code",
   "execution_count": 28,
   "metadata": {
    "scrolled": false
   },
   "outputs": [
    {
     "data": {
      "text/html": [
       "<div>\n",
       "<style scoped>\n",
       "    .dataframe tbody tr th:only-of-type {\n",
       "        vertical-align: middle;\n",
       "    }\n",
       "\n",
       "    .dataframe tbody tr th {\n",
       "        vertical-align: top;\n",
       "    }\n",
       "\n",
       "    .dataframe thead th {\n",
       "        text-align: right;\n",
       "    }\n",
       "</style>\n",
       "<table border=\"1\" class=\"dataframe\">\n",
       "  <thead>\n",
       "    <tr style=\"text-align: right;\">\n",
       "      <th></th>\n",
       "      <th>name</th>\n",
       "      <th>owners</th>\n",
       "      <th>Multi-player</th>\n",
       "      <th>Online Multi-Player</th>\n",
       "      <th>Local Multi-Player</th>\n",
       "      <th>Valve Anti-Cheat enabled</th>\n",
       "      <th>Single-player</th>\n",
       "      <th>Steam Cloud</th>\n",
       "      <th>Steam Achievements</th>\n",
       "      <th>Steam Trading Cards</th>\n",
       "      <th>...</th>\n",
       "      <th>Steam Leaderboards</th>\n",
       "      <th>SteamVR Collectibles</th>\n",
       "      <th>Online Co-op</th>\n",
       "      <th>Shared/Split Screen</th>\n",
       "      <th>Local Co-op</th>\n",
       "      <th>MMO</th>\n",
       "      <th>VR Support</th>\n",
       "      <th>Mods</th>\n",
       "      <th>Mods (require HL2)</th>\n",
       "      <th>Steam Turn Notifications</th>\n",
       "    </tr>\n",
       "    <tr>\n",
       "      <th>appid</th>\n",
       "      <th></th>\n",
       "      <th></th>\n",
       "      <th></th>\n",
       "      <th></th>\n",
       "      <th></th>\n",
       "      <th></th>\n",
       "      <th></th>\n",
       "      <th></th>\n",
       "      <th></th>\n",
       "      <th></th>\n",
       "      <th></th>\n",
       "      <th></th>\n",
       "      <th></th>\n",
       "      <th></th>\n",
       "      <th></th>\n",
       "      <th></th>\n",
       "      <th></th>\n",
       "      <th></th>\n",
       "      <th></th>\n",
       "      <th></th>\n",
       "      <th></th>\n",
       "    </tr>\n",
       "  </thead>\n",
       "  <tbody>\n",
       "    <tr>\n",
       "      <th>10</th>\n",
       "      <td>Counter-Strike</td>\n",
       "      <td>20000000</td>\n",
       "      <td>1.0</td>\n",
       "      <td>1.0</td>\n",
       "      <td>1.0</td>\n",
       "      <td>1.0</td>\n",
       "      <td>0.0</td>\n",
       "      <td>0.0</td>\n",
       "      <td>0.0</td>\n",
       "      <td>0.0</td>\n",
       "      <td>...</td>\n",
       "      <td>0.0</td>\n",
       "      <td>0.0</td>\n",
       "      <td>0.0</td>\n",
       "      <td>0.0</td>\n",
       "      <td>0.0</td>\n",
       "      <td>0.0</td>\n",
       "      <td>0.0</td>\n",
       "      <td>0.0</td>\n",
       "      <td>0.0</td>\n",
       "      <td>0.0</td>\n",
       "    </tr>\n",
       "    <tr>\n",
       "      <th>20</th>\n",
       "      <td>Team Fortress Classic</td>\n",
       "      <td>10000000</td>\n",
       "      <td>1.0</td>\n",
       "      <td>1.0</td>\n",
       "      <td>1.0</td>\n",
       "      <td>1.0</td>\n",
       "      <td>0.0</td>\n",
       "      <td>0.0</td>\n",
       "      <td>0.0</td>\n",
       "      <td>0.0</td>\n",
       "      <td>...</td>\n",
       "      <td>0.0</td>\n",
       "      <td>0.0</td>\n",
       "      <td>0.0</td>\n",
       "      <td>0.0</td>\n",
       "      <td>0.0</td>\n",
       "      <td>0.0</td>\n",
       "      <td>0.0</td>\n",
       "      <td>0.0</td>\n",
       "      <td>0.0</td>\n",
       "      <td>0.0</td>\n",
       "    </tr>\n",
       "    <tr>\n",
       "      <th>30</th>\n",
       "      <td>Day of Defeat</td>\n",
       "      <td>10000000</td>\n",
       "      <td>1.0</td>\n",
       "      <td>0.0</td>\n",
       "      <td>0.0</td>\n",
       "      <td>1.0</td>\n",
       "      <td>0.0</td>\n",
       "      <td>0.0</td>\n",
       "      <td>0.0</td>\n",
       "      <td>0.0</td>\n",
       "      <td>...</td>\n",
       "      <td>0.0</td>\n",
       "      <td>0.0</td>\n",
       "      <td>0.0</td>\n",
       "      <td>0.0</td>\n",
       "      <td>0.0</td>\n",
       "      <td>0.0</td>\n",
       "      <td>0.0</td>\n",
       "      <td>0.0</td>\n",
       "      <td>0.0</td>\n",
       "      <td>0.0</td>\n",
       "    </tr>\n",
       "    <tr>\n",
       "      <th>40</th>\n",
       "      <td>Deathmatch Classic</td>\n",
       "      <td>10000000</td>\n",
       "      <td>1.0</td>\n",
       "      <td>1.0</td>\n",
       "      <td>1.0</td>\n",
       "      <td>1.0</td>\n",
       "      <td>0.0</td>\n",
       "      <td>0.0</td>\n",
       "      <td>0.0</td>\n",
       "      <td>0.0</td>\n",
       "      <td>...</td>\n",
       "      <td>0.0</td>\n",
       "      <td>0.0</td>\n",
       "      <td>0.0</td>\n",
       "      <td>0.0</td>\n",
       "      <td>0.0</td>\n",
       "      <td>0.0</td>\n",
       "      <td>0.0</td>\n",
       "      <td>0.0</td>\n",
       "      <td>0.0</td>\n",
       "      <td>0.0</td>\n",
       "    </tr>\n",
       "    <tr>\n",
       "      <th>50</th>\n",
       "      <td>Half-Life: Opposing Force</td>\n",
       "      <td>10000000</td>\n",
       "      <td>1.0</td>\n",
       "      <td>0.0</td>\n",
       "      <td>0.0</td>\n",
       "      <td>1.0</td>\n",
       "      <td>1.0</td>\n",
       "      <td>0.0</td>\n",
       "      <td>0.0</td>\n",
       "      <td>0.0</td>\n",
       "      <td>...</td>\n",
       "      <td>0.0</td>\n",
       "      <td>0.0</td>\n",
       "      <td>0.0</td>\n",
       "      <td>0.0</td>\n",
       "      <td>0.0</td>\n",
       "      <td>0.0</td>\n",
       "      <td>0.0</td>\n",
       "      <td>0.0</td>\n",
       "      <td>0.0</td>\n",
       "      <td>0.0</td>\n",
       "    </tr>\n",
       "  </tbody>\n",
       "</table>\n",
       "<p>5 rows × 31 columns</p>\n",
       "</div>"
      ],
      "text/plain": [
       "                            name    owners  Multi-player  Online Multi-Player  \\\n",
       "appid                                                                           \n",
       "10                Counter-Strike  20000000           1.0                  1.0   \n",
       "20         Team Fortress Classic  10000000           1.0                  1.0   \n",
       "30                 Day of Defeat  10000000           1.0                  0.0   \n",
       "40            Deathmatch Classic  10000000           1.0                  1.0   \n",
       "50     Half-Life: Opposing Force  10000000           1.0                  0.0   \n",
       "\n",
       "       Local Multi-Player  Valve Anti-Cheat enabled  Single-player  \\\n",
       "appid                                                                \n",
       "10                    1.0                       1.0            0.0   \n",
       "20                    1.0                       1.0            0.0   \n",
       "30                    0.0                       1.0            0.0   \n",
       "40                    1.0                       1.0            0.0   \n",
       "50                    0.0                       1.0            1.0   \n",
       "\n",
       "       Steam Cloud  Steam Achievements  Steam Trading Cards  ...  \\\n",
       "appid                                                        ...   \n",
       "10             0.0                 0.0                  0.0  ...   \n",
       "20             0.0                 0.0                  0.0  ...   \n",
       "30             0.0                 0.0                  0.0  ...   \n",
       "40             0.0                 0.0                  0.0  ...   \n",
       "50             0.0                 0.0                  0.0  ...   \n",
       "\n",
       "       Steam Leaderboards  SteamVR Collectibles  Online Co-op  \\\n",
       "appid                                                           \n",
       "10                    0.0                   0.0           0.0   \n",
       "20                    0.0                   0.0           0.0   \n",
       "30                    0.0                   0.0           0.0   \n",
       "40                    0.0                   0.0           0.0   \n",
       "50                    0.0                   0.0           0.0   \n",
       "\n",
       "       Shared/Split Screen  Local Co-op  MMO  VR Support  Mods  \\\n",
       "appid                                                            \n",
       "10                     0.0          0.0  0.0         0.0   0.0   \n",
       "20                     0.0          0.0  0.0         0.0   0.0   \n",
       "30                     0.0          0.0  0.0         0.0   0.0   \n",
       "40                     0.0          0.0  0.0         0.0   0.0   \n",
       "50                     0.0          0.0  0.0         0.0   0.0   \n",
       "\n",
       "       Mods (require HL2)  Steam Turn Notifications  \n",
       "appid                                                \n",
       "10                    0.0                       0.0  \n",
       "20                    0.0                       0.0  \n",
       "30                    0.0                       0.0  \n",
       "40                    0.0                       0.0  \n",
       "50                    0.0                       0.0  \n",
       "\n",
       "[5 rows x 31 columns]"
      ]
     },
     "execution_count": 28,
     "metadata": {},
     "output_type": "execute_result"
    }
   ],
   "source": [
    "steam_split_ctg.head(5)"
   ]
  },
  {
   "cell_type": "markdown",
   "metadata": {},
   "source": [
    "+ Después de quitar columnas que no voy a gastar en este analisis y prepararme los datos para fácil acceso y uso pertinente, voy a pasar a su análisis."
   ]
  },
  {
   "cell_type": "markdown",
   "metadata": {},
   "source": [
    "### 6º Analisis (Categorías)"
   ]
  },
  {
   "cell_type": "code",
   "execution_count": 31,
   "metadata": {},
   "outputs": [
    {
     "data": {
      "image/png": "[encoded data removed]",
      "text/plain": [
       "<Figure size 432x288 with 1 Axes>"
      ]
     },
     "metadata": {
      "needs_background": "light"
     },
     "output_type": "display_data"
    }
   ],
   "source": [
    "sns.barplot(x = 'owners',y = 'Multi-player',palette=(\"YlOrBr\"), data = steam_split_ctg)\n",
    "plt.xticks(rotation=90)\n",
    "plt.title('Propietarios de juegos Multiplayer')\n",
    "plt.show()"
   ]
  },
  {
   "cell_type": "markdown",
   "metadata": {},
   "source": [
    "+ Como podemos ver en esta gráfica mostramos la cantidad de jugadores que tienen un juego con categoría multiplayer."
   ]
  },
  {
   "cell_type": "code",
   "execution_count": 45,
   "metadata": {},
   "outputs": [
    {
     "data": {
      "image/png": "[encoded data removed]",
      "text/plain": [
       "<Figure size 432x288 with 1 Axes>"
      ]
     },
     "metadata": {
      "needs_background": "light"
     },
     "output_type": "display_data"
    }
   ],
   "source": [
    "sns.barplot(y = 'Multi-player',x = 'Local Multi-Player', data = steam_split_ctg)\n",
    "plt.xticks(rotation=90)\n",
    "plt.title('Juegos Multiplayer con multiplayer local ')\n",
    "plt.show()"
   ]
  },
  {
   "cell_type": "markdown",
   "metadata": {},
   "source": [
    "+ Observamos que no todos los juegos multijugador cuentan con modo multijugador local"
   ]
  },
  {
   "cell_type": "code",
   "execution_count": 33,
   "metadata": {},
   "outputs": [
    {
     "data": {
      "image/png": "[encoded data removed]",
      "text/plain": [
       "<Figure size 432x288 with 1 Axes>"
      ]
     },
     "metadata": {
      "needs_background": "light"
     },
     "output_type": "display_data"
    }
   ],
   "source": [
    "sns.barplot(x= 'owners', y='Single-player',palette = \"icefire\", data = steam_split_ctg)\n",
    "plt.xticks(rotation=90)\n",
    "plt.title('Propietarios de juegos Singleplayer')\n",
    "plt.show()"
   ]
  },
  {
   "cell_type": "markdown",
   "metadata": {},
   "source": [
    "+ Ahora mostramos la cantidad de jugadores que tienen un juego con categoría un jugador, como podemos ver, es una categoría exitosa, pero no es un top ventas."
   ]
  },
  {
   "cell_type": "code",
   "execution_count": 47,
   "metadata": {
    "scrolled": true
   },
   "outputs": [
    {
     "data": {
      "image/png": "[encoded data removed]",
      "text/plain": [
       "<Figure size 432x288 with 1 Axes>"
      ]
     },
     "metadata": {
      "needs_background": "light"
     },
     "output_type": "display_data"
    }
   ],
   "source": [
    "sns.barplot(x= 'owners', y='Local Multi-Player', data = steam_split_ctg)\n",
    "plt.xticks(rotation=90)\n",
    "plt.title('Propietarios de juegos Local Multiplayer')\n",
    "plt.show()"
   ]
  },
  {
   "cell_type": "markdown",
   "metadata": {},
   "source": [
    "+ Como hemos podido ver antes, no todos los juegos multijugadores tienen modo local multiplayer."
   ]
  },
  {
   "cell_type": "code",
   "execution_count": 48,
   "metadata": {},
   "outputs": [
    {
     "data": {
      "image/png": "[encoded data removed]",
      "text/plain": [
       "<Figure size 432x288 with 1 Axes>"
      ]
     },
     "metadata": {
      "needs_background": "light"
     },
     "output_type": "display_data"
    }
   ],
   "source": [
    "sns.barplot(x= 'owners', y='VR Support', data = steam_split_ctg)\n",
    "plt.xticks(rotation=90)\n",
    "plt.title('Propietarios de juegos VR')\n",
    "plt.show()"
   ]
  },
  {
   "cell_type": "markdown",
   "metadata": {},
   "source": [
    "+ Como una tecnología aun en desarrollo no existen muchos videojuegos con este soporte"
   ]
  },
  {
   "cell_type": "code",
   "execution_count": 34,
   "metadata": {},
   "outputs": [
    {
     "data": {
      "image/png": "[encoded data removed]",
      "text/plain": [
       "<Figure size 432x288 with 1 Axes>"
      ]
     },
     "metadata": {
      "needs_background": "light"
     },
     "output_type": "display_data"
    }
   ],
   "source": [
    "sns.barplot(x= 'owners', y='Online Co-op',palette=\"Spectral\", data = steam_split_ctg)\n",
    "plt.xticks(rotation=90)\n",
    "plt.title('Propietarios de juegos Online coop')\n",
    "plt.show()"
   ]
  },
  {
   "cell_type": "markdown",
   "metadata": {},
   "source": [
    "+ Y por ultimo mostramos la categoría coop online para darnos cuenta que no todos los juegos multijugador tienen modo cooperativo. Algo que molesta, porque las historias cooperativas son muy disfrutables con amigos."
   ]
  },
  {
   "cell_type": "code",
   "execution_count": 120,
   "metadata": {
    "scrolled": false
   },
   "outputs": [
    {
     "data": {
      "text/plain": [
       "<matplotlib.axes._subplots.AxesSubplot at 0x1373f5ee7f0>"
      ]
     },
     "execution_count": 120,
     "metadata": {},
     "output_type": "execute_result"
    },
    {
     "data": {
      "image/png": "[encoded data removed]",
      "text/plain": [
       "<Figure size 2160x576 with 2 Axes>"
      ]
     },
     "metadata": {
      "needs_background": "light"
     },
     "output_type": "display_data"
    }
   ],
   "source": [
    "f, ax = plt.subplots(figsize=(30, 8))\n",
    "corr = steam_split_ctg.corr()\n",
    "sns.heatmap(corr, mask=np.zeros_like(corr, dtype=np.bool), \n",
    "            cmap=sns.diverging_palette(150, 275, s=80, l=55, n=9,as_cmap=True),square=True, ax=ax, annot = False)"
   ]
  },
  {
   "cell_type": "markdown",
   "metadata": {},
   "source": [
    "### 6.1º Conclusión analisis de Categorías\n",
    "+ Para concluir con el analisis a las categorías podemos terminar con palabras como que, la categoría con mayor numero de jugadores es multiplayer, algo que podía ser previsible pero me he encontrado con que la categoría coop no es tan famosa como pensaba, y pensaba que estaba en más juegos. Aun así juegos como Borderlands que es una saga famosa, tiene modo Coop, ojalá se implemente en un numero mayor de videojuegos para disfrutar de historias con amigos."
   ]
  },
  {
   "cell_type": "markdown",
   "metadata": {},
   "source": [
    "### 7º Tratamiento de datos orientado al estudio de Precio contra Consumidores\n"
   ]
  },
  {
   "cell_type": "markdown",
   "metadata": {},
   "source": [
    "+ Para concluir con este analisis vamos a su parte final continuando así con el precio, un apartado bastante importante en cuanto a la venta de videojuegos. Vamos a por ello."
   ]
  },
  {
   "cell_type": "code",
   "execution_count": 14,
   "metadata": {},
   "outputs": [],
   "source": [
    "steam_price = steam_dataset.copy()"
   ]
  },
  {
   "cell_type": "code",
   "execution_count": 27,
   "metadata": {},
   "outputs": [],
   "source": [
    "#steam_price.head(5)"
   ]
  },
  {
   "cell_type": "code",
   "execution_count": 15,
   "metadata": {},
   "outputs": [],
   "source": [
    "columns_to_drop = ['name','categories','genres','positive_ratings','negative_ratings','average_playtime','median_playtime']\n",
    "steam_price = drop_columns(steam_price,columns_to_drop)"
   ]
  },
  {
   "cell_type": "code",
   "execution_count": 16,
   "metadata": {},
   "outputs": [
    {
     "data": {
      "text/html": [
       "<div>\n",
       "<style scoped>\n",
       "    .dataframe tbody tr th:only-of-type {\n",
       "        vertical-align: middle;\n",
       "    }\n",
       "\n",
       "    .dataframe tbody tr th {\n",
       "        vertical-align: top;\n",
       "    }\n",
       "\n",
       "    .dataframe thead th {\n",
       "        text-align: right;\n",
       "    }\n",
       "</style>\n",
       "<table border=\"1\" class=\"dataframe\">\n",
       "  <thead>\n",
       "    <tr style=\"text-align: right;\">\n",
       "      <th></th>\n",
       "      <th>platforms</th>\n",
       "      <th>owners</th>\n",
       "      <th>price</th>\n",
       "    </tr>\n",
       "    <tr>\n",
       "      <th>appid</th>\n",
       "      <th></th>\n",
       "      <th></th>\n",
       "      <th></th>\n",
       "    </tr>\n",
       "  </thead>\n",
       "  <tbody>\n",
       "    <tr>\n",
       "      <th>appid</th>\n",
       "      <td>platforms</td>\n",
       "      <td>owners</td>\n",
       "      <td>price</td>\n",
       "    </tr>\n",
       "    <tr>\n",
       "      <th>10</th>\n",
       "      <td>windows;mac;linux</td>\n",
       "      <td>10000000-20000000</td>\n",
       "      <td>7.19</td>\n",
       "    </tr>\n",
       "    <tr>\n",
       "      <th>20</th>\n",
       "      <td>windows;mac;linux</td>\n",
       "      <td>5000000-10000000</td>\n",
       "      <td>3.99</td>\n",
       "    </tr>\n",
       "    <tr>\n",
       "      <th>30</th>\n",
       "      <td>windows;mac;linux</td>\n",
       "      <td>5000000-10000000</td>\n",
       "      <td>3.99</td>\n",
       "    </tr>\n",
       "    <tr>\n",
       "      <th>40</th>\n",
       "      <td>windows;mac;linux</td>\n",
       "      <td>5000000-10000000</td>\n",
       "      <td>3.99</td>\n",
       "    </tr>\n",
       "    <tr>\n",
       "      <th>...</th>\n",
       "      <td>...</td>\n",
       "      <td>...</td>\n",
       "      <td>...</td>\n",
       "    </tr>\n",
       "    <tr>\n",
       "      <th>1065230</th>\n",
       "      <td>windows</td>\n",
       "      <td>0-20000</td>\n",
       "      <td>2.09</td>\n",
       "    </tr>\n",
       "    <tr>\n",
       "      <th>1065570</th>\n",
       "      <td>windows</td>\n",
       "      <td>0-20000</td>\n",
       "      <td>1.69</td>\n",
       "    </tr>\n",
       "    <tr>\n",
       "      <th>1065650</th>\n",
       "      <td>windows</td>\n",
       "      <td>0-20000</td>\n",
       "      <td>3.99</td>\n",
       "    </tr>\n",
       "    <tr>\n",
       "      <th>1066700</th>\n",
       "      <td>windows;mac</td>\n",
       "      <td>0-20000</td>\n",
       "      <td>5.19</td>\n",
       "    </tr>\n",
       "    <tr>\n",
       "      <th>1069460</th>\n",
       "      <td>windows;mac</td>\n",
       "      <td>0-20000</td>\n",
       "      <td>5.19</td>\n",
       "    </tr>\n",
       "  </tbody>\n",
       "</table>\n",
       "<p>27076 rows × 3 columns</p>\n",
       "</div>"
      ],
      "text/plain": [
       "                 platforms             owners  price\n",
       "appid                                               \n",
       "appid            platforms             owners  price\n",
       "10       windows;mac;linux  10000000-20000000   7.19\n",
       "20       windows;mac;linux   5000000-10000000   3.99\n",
       "30       windows;mac;linux   5000000-10000000   3.99\n",
       "40       windows;mac;linux   5000000-10000000   3.99\n",
       "...                    ...                ...    ...\n",
       "1065230            windows            0-20000   2.09\n",
       "1065570            windows            0-20000   1.69\n",
       "1065650            windows            0-20000   3.99\n",
       "1066700        windows;mac            0-20000   5.19\n",
       "1069460        windows;mac            0-20000   5.19\n",
       "\n",
       "[27076 rows x 3 columns]"
      ]
     },
     "metadata": {},
     "output_type": "display_data"
    }
   ],
   "source": [
    "display(steam_price)"
   ]
  },
  {
   "cell_type": "code",
   "execution_count": 17,
   "metadata": {},
   "outputs": [],
   "source": [
    "steam_price.drop([\"appid\"], inplace = True)"
   ]
  },
  {
   "cell_type": "code",
   "execution_count": 18,
   "metadata": {},
   "outputs": [],
   "source": [
    "steam_price['owners'] = steam_price['owners'].apply(split_owners)\n",
    "steam_price['owners'] = steam_price['owners'].astype(int)\n",
    "steam_price['price'] = steam_price['price'].astype(float)"
   ]
  },
  {
   "cell_type": "code",
   "execution_count": 19,
   "metadata": {},
   "outputs": [
    {
     "data": {
      "text/html": [
       "<div>\n",
       "<style scoped>\n",
       "    .dataframe tbody tr th:only-of-type {\n",
       "        vertical-align: middle;\n",
       "    }\n",
       "\n",
       "    .dataframe tbody tr th {\n",
       "        vertical-align: top;\n",
       "    }\n",
       "\n",
       "    .dataframe thead th {\n",
       "        text-align: right;\n",
       "    }\n",
       "</style>\n",
       "<table border=\"1\" class=\"dataframe\">\n",
       "  <thead>\n",
       "    <tr style=\"text-align: right;\">\n",
       "      <th></th>\n",
       "      <th>platforms</th>\n",
       "      <th>owners</th>\n",
       "      <th>price</th>\n",
       "    </tr>\n",
       "    <tr>\n",
       "      <th>appid</th>\n",
       "      <th></th>\n",
       "      <th></th>\n",
       "      <th></th>\n",
       "    </tr>\n",
       "  </thead>\n",
       "  <tbody>\n",
       "    <tr>\n",
       "      <th>10</th>\n",
       "      <td>windows;mac;linux</td>\n",
       "      <td>20000000</td>\n",
       "      <td>7.19</td>\n",
       "    </tr>\n",
       "    <tr>\n",
       "      <th>20</th>\n",
       "      <td>windows;mac;linux</td>\n",
       "      <td>10000000</td>\n",
       "      <td>3.99</td>\n",
       "    </tr>\n",
       "    <tr>\n",
       "      <th>30</th>\n",
       "      <td>windows;mac;linux</td>\n",
       "      <td>10000000</td>\n",
       "      <td>3.99</td>\n",
       "    </tr>\n",
       "    <tr>\n",
       "      <th>40</th>\n",
       "      <td>windows;mac;linux</td>\n",
       "      <td>10000000</td>\n",
       "      <td>3.99</td>\n",
       "    </tr>\n",
       "    <tr>\n",
       "      <th>50</th>\n",
       "      <td>windows;mac;linux</td>\n",
       "      <td>10000000</td>\n",
       "      <td>3.99</td>\n",
       "    </tr>\n",
       "    <tr>\n",
       "      <th>...</th>\n",
       "      <td>...</td>\n",
       "      <td>...</td>\n",
       "      <td>...</td>\n",
       "    </tr>\n",
       "    <tr>\n",
       "      <th>1065230</th>\n",
       "      <td>windows</td>\n",
       "      <td>20000</td>\n",
       "      <td>2.09</td>\n",
       "    </tr>\n",
       "    <tr>\n",
       "      <th>1065570</th>\n",
       "      <td>windows</td>\n",
       "      <td>20000</td>\n",
       "      <td>1.69</td>\n",
       "    </tr>\n",
       "    <tr>\n",
       "      <th>1065650</th>\n",
       "      <td>windows</td>\n",
       "      <td>20000</td>\n",
       "      <td>3.99</td>\n",
       "    </tr>\n",
       "    <tr>\n",
       "      <th>1066700</th>\n",
       "      <td>windows;mac</td>\n",
       "      <td>20000</td>\n",
       "      <td>5.19</td>\n",
       "    </tr>\n",
       "    <tr>\n",
       "      <th>1069460</th>\n",
       "      <td>windows;mac</td>\n",
       "      <td>20000</td>\n",
       "      <td>5.19</td>\n",
       "    </tr>\n",
       "  </tbody>\n",
       "</table>\n",
       "<p>27075 rows × 3 columns</p>\n",
       "</div>"
      ],
      "text/plain": [
       "                 platforms    owners  price\n",
       "appid                                      \n",
       "10       windows;mac;linux  20000000   7.19\n",
       "20       windows;mac;linux  10000000   3.99\n",
       "30       windows;mac;linux  10000000   3.99\n",
       "40       windows;mac;linux  10000000   3.99\n",
       "50       windows;mac;linux  10000000   3.99\n",
       "...                    ...       ...    ...\n",
       "1065230            windows     20000   2.09\n",
       "1065570            windows     20000   1.69\n",
       "1065650            windows     20000   3.99\n",
       "1066700        windows;mac     20000   5.19\n",
       "1069460        windows;mac     20000   5.19\n",
       "\n",
       "[27075 rows x 3 columns]"
      ]
     },
     "metadata": {},
     "output_type": "display_data"
    }
   ],
   "source": [
    "display(steam_price)"
   ]
  },
  {
   "cell_type": "code",
   "execution_count": 20,
   "metadata": {},
   "outputs": [],
   "source": [
    "all_platforms = steam_dataset['platforms'].apply(lambda x : x.split(';'))\n",
    "#print(all_platforms)\n",
    "\n",
    "platF = pd.unique([plat for x in all_platforms for plat in x])\n",
    "#print(platF)"
   ]
  },
  {
   "cell_type": "code",
   "execution_count": 21,
   "metadata": {},
   "outputs": [],
   "source": [
    "# crear tabla con columnas por plataformas\n",
    "zeros = np.zeros( (len(steam_dataset), len(platF)) )\n",
    "platf_frame = pd.DataFrame(zeros,columns=platF, index= steam_dataset.index)\n",
    "columns_to_drop = ['platforms']\n",
    "platf_frame = drop_columns(platf_frame,columns_to_drop)\n",
    "#categ_frame.head(5)"
   ]
  },
  {
   "cell_type": "code",
   "execution_count": 22,
   "metadata": {},
   "outputs": [],
   "source": [
    "columns_pt = platf_frame.columns # lista de plataformas (columnas)\n",
    "# para cada juego, marcar plataforma con 1\n",
    "for i, pt in enumerate(steam_dataset['platforms']):\n",
    "    inds = columns_pt.get_indexer(pt.split(';')) # retorna los indices correspondientes a las plataforma de cada juego\n",
    "    platf_frame.iloc[i,inds] = 1 # localiza las columnas de la plataforma correspondiente, marca con 1"
   ]
  },
  {
   "cell_type": "code",
   "execution_count": 204,
   "metadata": {},
   "outputs": [],
   "source": [
    "#platf_frame.head(5)"
   ]
  },
  {
   "cell_type": "code",
   "execution_count": 29,
   "metadata": {},
   "outputs": [],
   "source": [
    "steam_price_plt = steam_price.join(platf_frame)"
   ]
  },
  {
   "cell_type": "code",
   "execution_count": 30,
   "metadata": {},
   "outputs": [
    {
     "data": {
      "text/html": [
       "<div>\n",
       "<style scoped>\n",
       "    .dataframe tbody tr th:only-of-type {\n",
       "        vertical-align: middle;\n",
       "    }\n",
       "\n",
       "    .dataframe tbody tr th {\n",
       "        vertical-align: top;\n",
       "    }\n",
       "\n",
       "    .dataframe thead th {\n",
       "        text-align: right;\n",
       "    }\n",
       "</style>\n",
       "<table border=\"1\" class=\"dataframe\">\n",
       "  <thead>\n",
       "    <tr style=\"text-align: right;\">\n",
       "      <th></th>\n",
       "      <th>platforms</th>\n",
       "      <th>owners</th>\n",
       "      <th>price</th>\n",
       "      <th>windows</th>\n",
       "      <th>mac</th>\n",
       "      <th>linux</th>\n",
       "    </tr>\n",
       "    <tr>\n",
       "      <th>appid</th>\n",
       "      <th></th>\n",
       "      <th></th>\n",
       "      <th></th>\n",
       "      <th></th>\n",
       "      <th></th>\n",
       "      <th></th>\n",
       "    </tr>\n",
       "  </thead>\n",
       "  <tbody>\n",
       "    <tr>\n",
       "      <th>10</th>\n",
       "      <td>windows;mac;linux</td>\n",
       "      <td>20000000</td>\n",
       "      <td>7.19</td>\n",
       "      <td>1.0</td>\n",
       "      <td>1.0</td>\n",
       "      <td>1.0</td>\n",
       "    </tr>\n",
       "    <tr>\n",
       "      <th>20</th>\n",
       "      <td>windows;mac;linux</td>\n",
       "      <td>10000000</td>\n",
       "      <td>3.99</td>\n",
       "      <td>1.0</td>\n",
       "      <td>1.0</td>\n",
       "      <td>1.0</td>\n",
       "    </tr>\n",
       "    <tr>\n",
       "      <th>30</th>\n",
       "      <td>windows;mac;linux</td>\n",
       "      <td>10000000</td>\n",
       "      <td>3.99</td>\n",
       "      <td>1.0</td>\n",
       "      <td>1.0</td>\n",
       "      <td>1.0</td>\n",
       "    </tr>\n",
       "    <tr>\n",
       "      <th>40</th>\n",
       "      <td>windows;mac;linux</td>\n",
       "      <td>10000000</td>\n",
       "      <td>3.99</td>\n",
       "      <td>1.0</td>\n",
       "      <td>1.0</td>\n",
       "      <td>1.0</td>\n",
       "    </tr>\n",
       "    <tr>\n",
       "      <th>50</th>\n",
       "      <td>windows;mac;linux</td>\n",
       "      <td>10000000</td>\n",
       "      <td>3.99</td>\n",
       "      <td>1.0</td>\n",
       "      <td>1.0</td>\n",
       "      <td>1.0</td>\n",
       "    </tr>\n",
       "  </tbody>\n",
       "</table>\n",
       "</div>"
      ],
      "text/plain": [
       "               platforms    owners  price  windows  mac  linux\n",
       "appid                                                         \n",
       "10     windows;mac;linux  20000000   7.19      1.0  1.0    1.0\n",
       "20     windows;mac;linux  10000000   3.99      1.0  1.0    1.0\n",
       "30     windows;mac;linux  10000000   3.99      1.0  1.0    1.0\n",
       "40     windows;mac;linux  10000000   3.99      1.0  1.0    1.0\n",
       "50     windows;mac;linux  10000000   3.99      1.0  1.0    1.0"
      ]
     },
     "execution_count": 30,
     "metadata": {},
     "output_type": "execute_result"
    }
   ],
   "source": [
    "steam_price_plt.head(5)"
   ]
  },
  {
   "cell_type": "code",
   "execution_count": 25,
   "metadata": {},
   "outputs": [
    {
     "data": {
      "image/png": "[encoded data removed]",
      "text/plain": [
       "<Figure size 360x360 with 1 Axes>"
      ]
     },
     "metadata": {
      "needs_background": "light"
     },
     "output_type": "display_data"
    }
   ],
   "source": [
    "sns.catplot(x= 'owners', y='platforms', data = steam_price_plt)\n",
    "plt.xticks(rotation=90)\n",
    "plt.show()"
   ]
  },
  {
   "cell_type": "markdown",
   "metadata": {},
   "source": [
    "+ La gran mayoria de videojuegos son multiplataforma, y la plataforma con mas juegos compatibles, se encuentra en windows"
   ]
  },
  {
   "cell_type": "code",
   "execution_count": 34,
   "metadata": {},
   "outputs": [
    {
     "data": {
      "image/png": "[encoded data removed]",
      "text/plain": [
       "<Figure size 360x360 with 1 Axes>"
      ]
     },
     "metadata": {
      "needs_background": "light"
     },
     "output_type": "display_data"
    }
   ],
   "source": [
    "sns.catplot(x= 'price', y='platforms', data = steam_price_plt)\n",
    "plt.xticks(rotation=90)\n",
    "plt.show()"
   ]
  },
  {
   "cell_type": "markdown",
   "metadata": {},
   "source": [
    "+ Parece ser que los juegos que solo estan en windows, son más caros"
   ]
  },
  {
   "cell_type": "code",
   "execution_count": 35,
   "metadata": {},
   "outputs": [],
   "source": [
    "columns_to_drop = ['platforms']\n",
    "steam_price_plt = drop_columns(steam_price_plt,columns_to_drop)"
   ]
  },
  {
   "cell_type": "markdown",
   "metadata": {},
   "source": [
    "+ Ahora que ya tenemos todos los datos necesarios para poder trabajar sobre ellos en un analisis, proseguimos con el mismo."
   ]
  },
  {
   "cell_type": "markdown",
   "metadata": {},
   "source": [
    "### 8º Analisis (Precio vs Consumidores)"
   ]
  },
  {
   "cell_type": "code",
   "execution_count": 33,
   "metadata": {},
   "outputs": [
    {
     "data": {
      "text/plain": [
       "<seaborn.axisgrid.PairGrid at 0x2273cb6ad90>"
      ]
     },
     "execution_count": 33,
     "metadata": {},
     "output_type": "execute_result"
    },
    {
     "data": {
      "image/png": "[encoded data removed]",
      "text/plain": [
       "<Figure size 900x900 with 30 Axes>"
      ]
     },
     "metadata": {
      "needs_background": "light"
     },
     "output_type": "display_data"
    }
   ],
   "source": [
    "sns.pairplot(steam_price_plt)"
   ]
  },
  {
   "cell_type": "markdown",
   "metadata": {},
   "source": [
    "+ En esta previsualización me he podido fijar en que los datos son muy similares en las 3 plataformas que existen en PC"
   ]
  },
  {
   "cell_type": "code",
   "execution_count": 199,
   "metadata": {},
   "outputs": [
    {
     "data": {
      "image/png": "[encoded data removed]",
      "text/plain": [
       "<Figure size 360x360 with 1 Axes>"
      ]
     },
     "metadata": {
      "needs_background": "light"
     },
     "output_type": "display_data"
    }
   ],
   "source": [
    "sns.catplot(x= 'owners', y='price', data = steam_price_plt)\n",
    "plt.xticks(rotation=90)\n",
    "plt.show()"
   ]
  },
  {
   "cell_type": "markdown",
   "metadata": {},
   "source": [
    "+ En este caso me he podido fijar en que los juegos mas vendidos, son juegos con precios muy por debajo de los 100 dolares, y los menos vendidos resultan ser los mas caros, incluso habiendo casos de que juegos valen mas de 400 dolares, pero con muy pocos compradores."
   ]
  },
  {
   "cell_type": "code",
   "execution_count": 213,
   "metadata": {},
   "outputs": [
    {
     "data": {
      "image/png": "[encoded data removed]",
      "text/plain": [
       "<Figure size 360x360 with 1 Axes>"
      ]
     },
     "metadata": {
      "needs_background": "light"
     },
     "output_type": "display_data"
    }
   ],
   "source": [
    "sns.catplot(y= 'owners', x='windows', data = steam_price_plt)\n",
    "plt.xticks(rotation=90)\n",
    "plt.show()"
   ]
  },
  {
   "cell_type": "markdown",
   "metadata": {},
   "source": [
    "+ Algo obvio este resultado, la mayoria de jugadores se encuentran en windows, algo que puede resultar mas que evidente, pero quería verificarlo."
   ]
  },
  {
   "cell_type": "code",
   "execution_count": 215,
   "metadata": {},
   "outputs": [
    {
     "data": {
      "image/png": "[encoded data removed]",
      "text/plain": [
       "<Figure size 360x360 with 1 Axes>"
      ]
     },
     "metadata": {
      "needs_background": "light"
     },
     "output_type": "display_data"
    }
   ],
   "source": [
    "sns.catplot(y= 'owners', x='linux', data = steam_price_plt)\n",
    "plt.xticks(rotation=90)\n",
    "plt.show()"
   ]
  },
  {
   "cell_type": "markdown",
   "metadata": {},
   "source": [
    "+ Y como en la grafica antes vista, se puede observar que no todos los juegos están en linux."
   ]
  },
  {
   "cell_type": "code",
   "execution_count": 52,
   "metadata": {},
   "outputs": [
    {
     "data": {
      "image/png": "[encoded data removed]",
      "text/plain": [
       "<Figure size 360x360 with 1 Axes>"
      ]
     },
     "metadata": {
      "needs_background": "light"
     },
     "output_type": "display_data"
    }
   ],
   "source": [
    "sns.catplot(y= 'owners', x='mac', data = steam_price_plt)\n",
    "plt.xticks(rotation=90)\n",
    "plt.show()"
   ]
  },
  {
   "cell_type": "markdown",
   "metadata": {},
   "source": [
    "+ Y en este caso podemos ver que los datos de mac son muy similares a los de linux."
   ]
  },
  {
   "cell_type": "markdown",
   "metadata": {},
   "source": [
    "### 8.1º Conclusión (Precio vs Consumidores)\n",
    "+ Viendo los datos resultados de los gráficos mostrados, se puede concluir con que el precio es un factor muy importante en el mundo de los videojuegos, así como en que plataforma desarrolles. "
   ]
  },
  {
   "cell_type": "markdown",
   "metadata": {},
   "source": [
    "### 9º Conclusión Final "
   ]
  },
  {
   "cell_type": "markdown",
   "metadata": {},
   "source": [
    "+ Para poder finalizar con este analisis extenso sobre el mundo de los videojuegos en la plataforma principal del mundo del Pc como es Steam, nos podemos fijar en que los datos son muy claros en cuales son las claves de triunfo de un videjuego. Las claves son:\n",
    "    + Tener un juego con un precio reducido.\n",
    "    + Que sea de género de acción ya que es de los géneros mas demandados\n",
    "    + Y que disponga de modo multijugador\n",
    "+ Con esas tres claves puedes asegurar que tu juego va a ser jugado, luego entran factores como si el juego es de calidad, que eso en este analisis no he querido meterme. Juegos rompedores como Among Us es un juego que lo ha petado mucho porqué, su precio es inferior a los 4 dolares, es un juego indie pero con acción y frenesí, y lo más importante que es el porque tiene tantos jugadores, es su modo multijugador. Aparte de estos datos los multijugadores suelen ser más longevos que los singleplayers. Tambien existén fracasos muy importantes como puede ser Anthem, un juego que prometía mucho, donde su género principal era acción y es multijugador, pero el precio y la calidad del juego no acompañaron con lo prometido, por eso y por su falta de expansión del juego en el postgame, hizo que la gente lo abandonase. A lo que me refiero que en general las claves se repiten y son reales, hasta que llega un juego que las rompe y aun cumpliendolas fracasa."
   ]
  }
 ],
 "metadata": {
  "kernelspec": {
   "display_name": "Python 3",
   "language": "python",
   "name": "python3"
  },
  "language_info": {
   "codemirror_mode": {
    "name": "ipython",
    "version": 3
   },
   "file_extension": ".py",
   "mimetype": "text/x-python",
   "name": "python",
   "nbconvert_exporter": "python",
   "pygments_lexer": "ipython3",
   "version": "3.8.3"
  }
 },
 "nbformat": 4,
 "nbformat_minor": 4
}
